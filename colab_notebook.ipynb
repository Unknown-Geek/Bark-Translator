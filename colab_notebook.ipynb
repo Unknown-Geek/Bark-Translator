{
 "cells": [
  {
   "cell_type": "code",
   "execution_count": null,
   "metadata": {
    "vscode": {
     "languageId": "plaintext"
    }
   },
   "outputs": [],
   "source": [
    "!pip install pyngrok\n",
    "!pip install flask-ngrok flask-cors transformers torch Pillow"
   ]
  },
  {
   "cell_type": "code",
   "execution_count": null,
   "metadata": {
    "vscode": {
     "languageId": "plaintext"
    }
   },
   "outputs": [],
   "source": []
  },
  {
   "cell_type": "code",
   "execution_count": null,
   "metadata": {
    "vscode": {
     "languageId": "plaintext"
    }
   },
   "outputs": [],
   "source": [
    "# Set up ngrok\n",
    "try:\n",
    "    from pyngrok import ngrok\n",
    "    \n",
    "    # Set up authentication\n",
    "    auth_token = \"2oHUyMyGNJuD34GO6NdGJd8KAxd_3TyYzUGLMA9DvgUopNRw3\"\n",
    "    ngrok.set_auth_token(auth_token)\n",
    "    print(\"✓ Ngrok authentication successful\")\n",
    "    \n",
    "except Exception as e:\n",
    "    print(f\"✗ Error setting up ngrok: {str(e)}\")\n",
    "    raise e\n"
   ]
  },
  {
   "cell_type": "code",
   "execution_count": null,
   "metadata": {
    "vscode": {
     "languageId": "plaintext"
    }
   },
   "outputs": [],
   "source": [
    "from flask import Flask, request, jsonify\n",
    "from flask_cors import CORS\n",
    "from transformers import pipeline, AutoModelForCausalLM, AutoTokenizer\n",
    "import torch\n",
    "from PIL import Image\n",
    "import io\n",
    "import base64\n",
    "\n",
    "app = Flask(__name__)\n",
    "CORS(app)\n",
    "\n",
    "# ... (rest of your existing model loading and route code) ...\n",
    "\n",
    "def start_server():\n",
    "    try:\n",
    "        # Kill any existing ngrok tunnels\n",
    "        ngrok.kill()\n",
    "        \n",
    "        # Create new tunnel\n",
    "        public_url = ngrok.connect(5000)\n",
    "        print(f'Public URL: {public_url}')\n",
    "        \n",
    "        # Start Flask app\n",
    "        app.run(port=5000)\n",
    "    except Exception as e:\n",
    "        print(f'Error starting server: {str(e)}')\n",
    "        ngrok.kill()\n",
    "\n",
    "if __name__ == '__main__':\n",
    "    # Load models globally\n",
    "    print(\"Loading AI models...\")\n",
    "    try:\n",
    "        image_captioner, story_tokenizer, story_model, device = load_models()\n",
    "        print(\"Starting the server...\")\n",
    "        start_server()\n",
    "    except Exception as e:\n",
    "        print(f\"Error: {str(e)}\")\n",
    "        ngrok.kill()"
   ]
  }
 ],
 "metadata": {
  "language_info": {
   "name": "python"
  }
 },
 "nbformat": 4,
 "nbformat_minor": 2
}
