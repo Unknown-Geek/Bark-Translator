{
 "cells": [
  {
   "cell_type": "code",
   "execution_count": null,
   "metadata": {},
   "source": [
    "!pip install transformers torch\n",
    "\n",
    "from transformers import pipeline\n",
    "import torch\n",
    "import json\n",
    "\n",
    "# Load the model\n",
    "story_generator = pipeline('text-generation', model='gpt2')\n",
    "\n",
    "def process_image(image_path):\n",
    "    # Process image and generate description\n",
    "    description = \"A spooky old house with creaky floors and cobwebs.\"\n",
    "    \n",
    "    # Generate story\n",
    "    story = story_generator(description, max_length=200, num_return_sequences=1)[0]['generated_text']\n",
    "    \n",
    "    # Save result\n",
    "    result = {'story': story}\n",
    "    with open('result.json', 'w') as f:\n",
    "        json.dump(result, f)\n",
    "\n",
    "# Process the uploaded image\n",
    "process_image('temp_image.jpg')"
   ]
  }
 ]
}
